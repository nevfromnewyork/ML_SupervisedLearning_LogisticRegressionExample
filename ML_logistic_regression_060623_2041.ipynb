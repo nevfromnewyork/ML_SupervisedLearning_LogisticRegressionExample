{
 "cells": [
  {
   "cell_type": "markdown",
   "id": "6f0d8354-c20c-40f8-9759-838334cbc9fd",
   "metadata": {},
   "source": [
    "# LOGISTIC REGRESSION EXAMPLE\n",
    "\n",
    "In this example, we'll use Logistic Regression to predict the probability that a tumor is malignant based on its size in centimeters given a small dataset of tumor malignancy in other patients."
   ]
  },
  {
   "cell_type": "code",
   "execution_count": 8,
   "id": "5d9dac98-fc8f-4ee7-9a68-571ab2fde80d",
   "metadata": {},
   "outputs": [],
   "source": [
    "'''libraries'''\n",
    "import numpy as np\n",
    "from sklearn import linear_model"
   ]
  },
  {
   "cell_type": "code",
   "execution_count": 10,
   "id": "4bc8509b-3122-4248-b6fc-03c910a3e773",
   "metadata": {},
   "outputs": [],
   "source": [
    "'''dataset'''\n",
    "X = np.array([3.78, 2.44, 2.09, 0.14, 1.72, 1.65, 4.92, 4.37, 4.96, 4.52, 3.69, 5.88]).reshape(-1,1)\n",
    "y = np.array([0,0,0,0,0,0,1,1,1,1,1,1])"
   ]
  },
  {
   "cell_type": "code",
   "execution_count": 11,
   "id": "23cbfe23-228a-42e0-afe2-9480a16b9502",
   "metadata": {},
   "outputs": [
    {
     "data": {
      "text/plain": [
       "LogisticRegression()"
      ]
     },
     "execution_count": 11,
     "metadata": {},
     "output_type": "execute_result"
    }
   ],
   "source": [
    "'''regress'''\n",
    "logr = linear_model.LogisticRegression()\n",
    "logr.fit(X,y)"
   ]
  },
  {
   "cell_type": "code",
   "execution_count": 12,
   "id": "f3d9efcf-dde4-489d-b75c-d3a154b4e085",
   "metadata": {},
   "outputs": [
    {
     "name": "stdout",
     "output_type": "stream",
     "text": [
      "[0] [1]\n"
     ]
    }
   ],
   "source": [
    "'''predict'''\n",
    "p1 = logr.predict(np.array([3.46]).reshape(-1,1))\n",
    "p2 = logr.predict(np.array([3.56]).reshape(-1,1))\n",
    "\n",
    "print(p1,p2)"
   ]
  },
  {
   "cell_type": "code",
   "execution_count": 17,
   "id": "b6840064-d825-4c1a-a0c6-caa9b0dabf1c",
   "metadata": {},
   "outputs": [
    {
     "name": "stdout",
     "output_type": "stream",
     "text": [
      "[[4.03541657]]\n"
     ]
    }
   ],
   "source": [
    "'''probability'''\n",
    "log_odds = logr.coef_\n",
    "odds = np.exp(log_odds)\n",
    "print(odds)"
   ]
  },
  {
   "cell_type": "code",
   "execution_count": 19,
   "id": "4b6f1dee-cdfd-4808-820a-dc1d59674439",
   "metadata": {},
   "outputs": [
    {
     "name": "stdout",
     "output_type": "stream",
     "text": [
      "[[0.60749955]\n",
      " [0.19268876]\n",
      " [0.12775886]\n",
      " [0.00955221]\n",
      " [0.08038616]\n",
      " [0.07345637]\n",
      " [0.88362743]\n",
      " [0.77901378]\n",
      " [0.88924409]\n",
      " [0.81293497]\n",
      " [0.57719129]\n",
      " [0.96664243]]\n"
     ]
    }
   ],
   "source": [
    "'''define function'''\n",
    "def logit2prob(X,logr):\n",
    "    log_odds = logr.coef_ * X + logr.intercept_\n",
    "    odds = np.exp(log_odds)\n",
    "    probability = odds / (1 + odds)\n",
    "    return probability\n",
    "\n",
    "print(logit2prob(X,logr))"
   ]
  },
  {
   "cell_type": "code",
   "execution_count": null,
   "id": "792af581-c732-4160-9cd1-5b1b61d7df7e",
   "metadata": {},
   "outputs": [],
   "source": []
  }
 ],
 "metadata": {
  "kernelspec": {
   "display_name": "Python 3",
   "language": "python",
   "name": "python3"
  },
  "language_info": {
   "codemirror_mode": {
    "name": "ipython",
    "version": 3
   },
   "file_extension": ".py",
   "mimetype": "text/x-python",
   "name": "python",
   "nbconvert_exporter": "python",
   "pygments_lexer": "ipython3",
   "version": "3.8.8"
  }
 },
 "nbformat": 4,
 "nbformat_minor": 5
}
